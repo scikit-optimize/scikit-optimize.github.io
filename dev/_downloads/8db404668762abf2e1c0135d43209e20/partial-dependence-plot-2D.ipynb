{
  "cells": [
    {
      "cell_type": "code",
      "execution_count": null,
      "metadata": {
        "collapsed": false
      },
      "outputs": [],
      "source": [
        "%matplotlib inline"
      ]
    },
    {
      "cell_type": "markdown",
      "metadata": {},
      "source": [
        "\n# Partial Dependence Plots 2D\n\nHvass-Labs Dec 2017\nHolger Nahrstaedt 2020\n\n.. currentmodule:: skopt\n\nSimple example to show the new 2D plots.\n"
      ]
    },
    {
      "cell_type": "code",
      "execution_count": null,
      "metadata": {
        "collapsed": false
      },
      "outputs": [],
      "source": [
        "print(__doc__)\nimport numpy as np\nfrom math import exp\n\nfrom skopt import gp_minimize\nfrom skopt.space import Real, Categorical, Integer\nfrom skopt.plots import plot_histogram, plot_objective_2D, plot_objective\nfrom skopt.utils import point_asdict\nnp.random.seed(123)\nimport matplotlib.pyplot as plt"
      ]
    },
    {
      "cell_type": "code",
      "execution_count": null,
      "metadata": {
        "collapsed": false
      },
      "outputs": [],
      "source": [
        "dim_learning_rate = Real(name='learning_rate', low=1e-6, high=1e-2, prior='log-uniform')\ndim_num_dense_layers = Integer(name='num_dense_layers', low=1, high=5)\ndim_num_dense_nodes = Integer(name='num_dense_nodes', low=5, high=512)\ndim_activation = Categorical(name='activation', categories=['relu', 'sigmoid'])\n\ndimensions = [dim_learning_rate,\n              dim_num_dense_layers,\n              dim_num_dense_nodes,\n              dim_activation]\n\ndefault_parameters = [1e-4, 1, 64, 'relu']\n\ndef model_fitness(x):\n    learning_rate, num_dense_layers, num_dense_nodes, activation = x\n\n    fitness = ((exp(learning_rate) - 1.0) * 1000) ** 2 + \\\n               (num_dense_layers) ** 2 + \\\n               (num_dense_nodes/100) ** 2\n\n    fitness *= 1.0 + 0.1 * np.random.rand()\n\n    if activation == 'sigmoid':\n        fitness += 10\n\n    return fitness\n\nprint(model_fitness(x=default_parameters))"
      ]
    },
    {
      "cell_type": "code",
      "execution_count": null,
      "metadata": {
        "collapsed": false
      },
      "outputs": [],
      "source": [
        "search_result = gp_minimize(func=model_fitness,\n                            dimensions=dimensions,\n                            n_calls=30,\n                            x0=default_parameters,\n                            random_state=123\n                            )\n\nprint(search_result.x)\nprint(search_result.fun)"
      ]
    },
    {
      "cell_type": "code",
      "execution_count": null,
      "metadata": {
        "collapsed": false
      },
      "outputs": [],
      "source": [
        "for fitness, x in sorted(zip(search_result.func_vals, search_result.x_iters)):\n    print(fitness, x)"
      ]
    },
    {
      "cell_type": "code",
      "execution_count": null,
      "metadata": {
        "collapsed": false
      },
      "outputs": [],
      "source": [
        "space = search_result.space\n\nprint(search_result.x_iters)\n\nsearch_space = {name: space[name][1] for name in space.dimension_names}\n\nprint(point_asdict(search_space, default_parameters))"
      ]
    },
    {
      "cell_type": "code",
      "execution_count": null,
      "metadata": {
        "collapsed": false
      },
      "outputs": [],
      "source": [
        "print(\"Plotting now ...\")\n\n_ = plot_histogram(result=search_result, dimension_identifier='learning_rate',\n                   bins=20)\nplt.show()"
      ]
    },
    {
      "cell_type": "code",
      "execution_count": null,
      "metadata": {
        "collapsed": false
      },
      "outputs": [],
      "source": [
        "_ = plot_objective_2D(result=search_result,\n                      dimension_identifier1='learning_rate',\n                      dimension_identifier2='num_dense_nodes')\nplt.show()"
      ]
    },
    {
      "cell_type": "code",
      "execution_count": null,
      "metadata": {
        "collapsed": false
      },
      "outputs": [],
      "source": [
        "_ = plot_objective_2D(result=search_result,\n                      dimension_identifier1='num_dense_layers',\n                      dimension_identifier2='num_dense_nodes')\nplt.show()"
      ]
    },
    {
      "cell_type": "code",
      "execution_count": null,
      "metadata": {
        "collapsed": false
      },
      "outputs": [],
      "source": [
        "_ = plot_objective(result=search_result,\n                   plot_dims=['num_dense_layers',\n                              'num_dense_nodes'])\nplt.show()"
      ]
    }
  ],
  "metadata": {
    "kernelspec": {
      "display_name": "Python 3",
      "language": "python",
      "name": "python3"
    },
    "language_info": {
      "codemirror_mode": {
        "name": "ipython",
        "version": 3
      },
      "file_extension": ".py",
      "mimetype": "text/x-python",
      "name": "python",
      "nbconvert_exporter": "python",
      "pygments_lexer": "ipython3",
      "version": "3.9.7"
    }
  },
  "nbformat": 4,
  "nbformat_minor": 0
}