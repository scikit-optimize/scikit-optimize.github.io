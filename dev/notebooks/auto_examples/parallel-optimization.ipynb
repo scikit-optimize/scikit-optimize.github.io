{
  "cells": [
    {
      "cell_type": "code",
      "execution_count": null,
      "metadata": {
        "collapsed": false
      },
      "outputs": [],
      "source": [
        "%matplotlib inline"
      ]
    },
    {
      "cell_type": "markdown",
      "metadata": {},
      "source": [
        "\n# Parallel optimization\n\n\nIaroslav Shcherbatyi, May 2017.\nReviewed by Manoj Kumar and Tim Head.\nReformatted by Holger Nahrstaedt 2020\n\n.. currentmodule:: skopt\n\nIntroduction\n============\n\nFor many practical black box optimization problems expensive objective can be\nevaluated in parallel at multiple points. This allows to get more objective\nevaluations per unit of time, which reduces the time necessary to reach good\nobjective values when appropriate optimization algorithms are used, see for\nexample results in [1]_ and the references therein.\n\n\nOne such example task is a selection of number and activation function of a\nneural network which results in highest accuracy for some machine learning\nproblem. For such task, multiple neural networks with different combinations\nof number of neurons and activation function type can be evaluated at the same\ntime in parallel on different cpu cores / computational nodes.\n\nThe \u201cask and tell\u201d API of scikit-optimize exposes functionality that allows to\nobtain multiple points for evaluation in parallel. Intended usage of this\ninterface is as follows:\n\n1. Initialize instance of the `Optimizer` class from skopt\n2. Obtain n points for evaluation in parallel by calling the `ask` method of an optimizer instance with the `n_points` argument set to n > 0\n3. Evaluate points\n4. Provide points and corresponding objectives using the `tell` method of an optimizer instance\n5. Continue from step 2 until eg maximum number of evaluations reached\n"
      ]
    },
    {
      "cell_type": "code",
      "execution_count": null,
      "metadata": {
        "collapsed": false
      },
      "outputs": [],
      "source": [
        "print(__doc__)\nimport numpy as np"
      ]
    },
    {
      "cell_type": "markdown",
      "metadata": {},
      "source": [
        "Example\n=======\n\nA minimalistic example that uses joblib to parallelize evaluation of the\nobjective function is given below.\n\n"
      ]
    },
    {
      "cell_type": "code",
      "execution_count": null,
      "metadata": {
        "collapsed": false
      },
      "outputs": [],
      "source": [
        "from skopt import Optimizer\nfrom skopt.space import Real\nfrom joblib import Parallel, delayed\n# example objective taken from skopt\nfrom skopt.benchmarks import branin\n\noptimizer = Optimizer(\n    dimensions=[Real(-5.0, 10.0), Real(0.0, 15.0)],\n    random_state=1,\n    base_estimator='gp'\n)\n\nfor i in range(10):\n    x = optimizer.ask(n_points=4)  # x is a list of n_points points\n    y = Parallel(n_jobs=4)(delayed(branin)(v) for v in x)  # evaluate points in parallel\n    optimizer.tell(x, y)\n\n# takes ~ 20 sec to get here\nprint(min(optimizer.yi))  # print the best objective found"
      ]
    },
    {
      "cell_type": "markdown",
      "metadata": {},
      "source": [
        "Note that if `n_points` is set to some integer > 0 for the `ask` method, the\nresult will be a list of points, even for `n_points` = 1. If the argument is\nset to `None` (default value) then a single point (but not a list of points)\nwill be returned.\n\nThe default \"minimum constant liar\" [1]_ parallelization strategy is used in\nthe example, which allows to obtain multiple points for evaluation with a\nsingle call to the `ask` method with any surrogate or acquisition function.\nParallelization strategy can be set using the \"strategy\" argument of `ask`.\nFor supported parallelization strategies see the documentation of\nscikit-optimize.\n\n.. [1] `<https://hal.archives-ouvertes.fr/hal-00732512/document>`_\n"
      ]
    }
  ],
  "metadata": {
    "kernelspec": {
      "display_name": "Python 3",
      "language": "python",
      "name": "python3"
    },
    "language_info": {
      "codemirror_mode": {
        "name": "ipython",
        "version": 3
      },
      "file_extension": ".py",
      "mimetype": "text/x-python",
      "name": "python",
      "nbconvert_exporter": "python",
      "pygments_lexer": "ipython3",
      "version": "3.8.2"
    }
  },
  "nbformat": 4,
  "nbformat_minor": 0
}