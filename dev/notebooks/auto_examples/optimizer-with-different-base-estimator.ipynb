{
  "cells": [
    {
      "cell_type": "code",
      "execution_count": null,
      "metadata": {
        "collapsed": false
      },
      "outputs": [],
      "source": [
        "%matplotlib inline"
      ]
    },
    {
      "cell_type": "markdown",
      "metadata": {},
      "source": [
        "\n# Use different base estimators for optimization\n\nSigurd Carlen, September 2019.\nReformatted by Holger Nahrstaedt 2020\n\n.. currentmodule:: skopt\n\n\nTo use different base_estimator or create a regressor with different parameters,\nwe can create a regressor object and set it as kernel.\n\nThis example uses :class:`plots.plot_gaussian_process` which is available\nsince version 0.8.\n"
      ]
    },
    {
      "cell_type": "code",
      "execution_count": null,
      "metadata": {
        "collapsed": false
      },
      "outputs": [],
      "source": [
        "print(__doc__)\n\nimport numpy as np\nnp.random.seed(1234)\nimport matplotlib.pyplot as plt\nfrom skopt.plots import plot_gaussian_process\nfrom skopt import Optimizer"
      ]
    },
    {
      "cell_type": "markdown",
      "metadata": {},
      "source": [
        "## Toy example\n\nLet assume the following noisy function $f$:\n\n"
      ]
    },
    {
      "cell_type": "code",
      "execution_count": null,
      "metadata": {
        "collapsed": false
      },
      "outputs": [],
      "source": [
        "noise_level = 0.1\n\n# Our 1D toy problem, this is the function we are trying to\n# minimize\n\n\ndef objective(x, noise_level=noise_level):\n    return np.sin(5 * x[0]) * (1 - np.tanh(x[0] ** 2))\\\n           + np.random.randn() * noise_level\n\n\ndef objective_wo_noise(x):\n    return objective(x, noise_level=0)"
      ]
    },
    {
      "cell_type": "code",
      "execution_count": null,
      "metadata": {
        "collapsed": false
      },
      "outputs": [],
      "source": [
        "opt_gp = Optimizer([(-2.0, 2.0)], base_estimator=\"GP\", n_initial_points=5,\n                acq_optimizer=\"sampling\", random_state=42)"
      ]
    },
    {
      "cell_type": "code",
      "execution_count": null,
      "metadata": {
        "collapsed": false
      },
      "outputs": [],
      "source": [
        "def plot_optimizer(res, n_iter, max_iters=5):\n    if n_iter == 0:\n        show_legend = True\n    else:\n        show_legend = False\n    ax = plt.subplot(max_iters, 2, 2 * n_iter + 1)\n    # Plot GP(x) + contours\n    ax = plot_gaussian_process(res, ax=ax,\n                               objective=objective_wo_noise,\n                               noise_level=noise_level,\n                               show_legend=show_legend, show_title=True,\n                               show_next_point=False, show_acq_func=False)\n    ax.set_ylabel(\"\")\n    ax.set_xlabel(\"\")\n    if n_iter < max_iters - 1:\n        ax.get_xaxis().set_ticklabels([])\n    # Plot EI(x)\n    ax = plt.subplot(max_iters, 2, 2 * n_iter + 2)\n    ax = plot_gaussian_process(res, ax=ax,\n                               noise_level=noise_level,\n                               show_legend=show_legend, show_title=False,\n                               show_next_point=True, show_acq_func=True,\n                               show_observations=False,\n                               show_mu=False)\n    ax.set_ylabel(\"\")\n    ax.set_xlabel(\"\")\n    if n_iter < max_iters - 1:\n        ax.get_xaxis().set_ticklabels([])"
      ]
    },
    {
      "cell_type": "markdown",
      "metadata": {},
      "source": [
        "## GP kernel\n\n"
      ]
    },
    {
      "cell_type": "code",
      "execution_count": null,
      "metadata": {
        "collapsed": false
      },
      "outputs": [],
      "source": [
        "fig = plt.figure()\nfig.suptitle(\"Standard GP kernel\")\nfor i in range(10):\n    next_x = opt_gp.ask()\n    f_val = objective(next_x)\n    res = opt_gp.tell(next_x, f_val)\n    if i >= 5:\n        plot_optimizer(res, n_iter=i-5, max_iters=5)\nplt.tight_layout(rect=[0, 0.03, 1, 0.95])\nplt.plot()"
      ]
    },
    {
      "cell_type": "markdown",
      "metadata": {},
      "source": [
        "## Test different kernels\n\n"
      ]
    },
    {
      "cell_type": "code",
      "execution_count": null,
      "metadata": {
        "collapsed": false
      },
      "outputs": [],
      "source": [
        "from skopt.learning import GaussianProcessRegressor\nfrom skopt.learning.gaussian_process.kernels import ConstantKernel, Matern\n# Gaussian process with Mat\u00e9rn kernel as surrogate model\n\nfrom sklearn.gaussian_process.kernels import (RBF, Matern, RationalQuadratic,\n                                              ExpSineSquared, DotProduct,\n                                              ConstantKernel)\n\n\nkernels = [1.0 * RBF(length_scale=1.0, length_scale_bounds=(1e-1, 10.0)),\n           1.0 * RationalQuadratic(length_scale=1.0, alpha=0.1),\n           1.0 * ExpSineSquared(length_scale=1.0, periodicity=3.0,\n                                length_scale_bounds=(0.1, 10.0),\n                                periodicity_bounds=(1.0, 10.0)),\n           ConstantKernel(0.1, (0.01, 10.0))\n               * (DotProduct(sigma_0=1.0, sigma_0_bounds=(0.1, 10.0)) ** 2),\n           1.0 * Matern(length_scale=1.0, length_scale_bounds=(1e-1, 10.0),\n                        nu=2.5)]"
      ]
    },
    {
      "cell_type": "code",
      "execution_count": null,
      "metadata": {
        "collapsed": false
      },
      "outputs": [],
      "source": [
        "for kernel in kernels:\n    gpr = GaussianProcessRegressor(kernel=kernel, alpha=noise_level ** 2,\n                                   normalize_y=True, noise=\"gaussian\",\n                                   n_restarts_optimizer=2\n                                   )\n    opt = Optimizer([(-2.0, 2.0)], base_estimator=gpr, n_initial_points=5,\n                    acq_optimizer=\"sampling\", random_state=42)\n    fig = plt.figure()\n    fig.suptitle(repr(kernel))\n    for i in range(10):\n        next_x = opt.ask()\n        f_val = objective(next_x)\n        res = opt.tell(next_x, f_val)\n        if i >= 5:\n            plot_optimizer(res, n_iter=i - 5, max_iters=5)\n    plt.tight_layout(rect=[0, 0.03, 1, 0.95])\n    plt.show()"
      ]
    }
  ],
  "metadata": {
    "kernelspec": {
      "display_name": "Python 3",
      "language": "python",
      "name": "python3"
    },
    "language_info": {
      "codemirror_mode": {
        "name": "ipython",
        "version": 3
      },
      "file_extension": ".py",
      "mimetype": "text/x-python",
      "name": "python",
      "nbconvert_exporter": "python",
      "pygments_lexer": "ipython3",
      "version": "3.9.5"
    }
  },
  "nbformat": 4,
  "nbformat_minor": 0
}