{
  "cells": [
    {
      "cell_type": "code",
      "execution_count": null,
      "metadata": {
        "collapsed": false
      },
      "outputs": [],
      "source": [
        "%matplotlib inline"
      ]
    },
    {
      "cell_type": "markdown",
      "metadata": {},
      "source": [
        "\n# Store and load `skopt` optimization results\n\nMikhail Pak, October 2016.\nReformatted by Holger Nahrstaedt 2020\n\n.. currentmodule:: skopt\n\n## Problem statement\n\nWe often want to store optimization results in a file. This can be useful,\nfor example,\n\n* if you want to share your results with colleagues;\n* if you want to archive and/or document your work;\n* or if you want to postprocess your results in a different Python instance or on an another computer.\n\nThe process of converting an object into a byte stream that can be stored in\na file is called _serialization_.\nConversely, _deserialization_ means loading an object from a byte stream.\n\n**Warning:** Deserialization is not secure against malicious or erroneous\ncode. Never load serialized data from untrusted or unauthenticated sources!\n"
      ]
    },
    {
      "cell_type": "code",
      "execution_count": null,
      "metadata": {
        "collapsed": false
      },
      "outputs": [],
      "source": [
        "print(__doc__)\nimport numpy as np\nimport os\nimport sys"
      ]
    },
    {
      "cell_type": "markdown",
      "metadata": {},
      "source": [
        "## Simple example\n\nWe will use the same optimization problem as in the\n`sphx_glr_auto_examples_bayesian-optimization.py` notebook:\n\n"
      ]
    },
    {
      "cell_type": "code",
      "execution_count": null,
      "metadata": {
        "collapsed": false
      },
      "outputs": [],
      "source": [
        "from skopt import gp_minimize\nnoise_level = 0.1\n\n\ndef obj_fun(x, noise_level=noise_level):\n    return np.sin(5 * x[0]) * (1 - np.tanh(x[0] ** 2)) + np.random.randn() \\\n        * noise_level\n\nres = gp_minimize(obj_fun,            # the function to minimize\n                  [(-2.0, 2.0)],      # the bounds on each dimension of x\n                  x0=[0.],            # the starting point\n                  acq_func=\"LCB\",     # the acquisition function (optional)\n                  n_calls=15,         # the number of evaluations of f including at x0\n                  n_random_starts=3,  # the number of random initial points\n                  random_state=777)"
      ]
    },
    {
      "cell_type": "markdown",
      "metadata": {},
      "source": [
        "As long as your Python session is active, you can access all the\noptimization results via the `res` object.\n\nSo how can you store this data in a file? `skopt` conveniently provides\nfunctions :class:`skopt.dump` and :class:`skopt.load` that handle this for you.\nThese functions are essentially thin wrappers around the\n`joblib <https://joblib.readthedocs.io/en/latest/>`_ module's :obj:`joblib.dump` and :obj:`joblib.load`.\n\nWe will now show how to use :class:`skopt.dump` and :class:`skopt.load` for storing\nand loading results.\n\n## Using `skopt.dump()` and `skopt.load()`\n\nFor storing optimization results into a file, call the :class:`skopt.dump`\nfunction:\n\n"
      ]
    },
    {
      "cell_type": "code",
      "execution_count": null,
      "metadata": {
        "collapsed": false
      },
      "outputs": [],
      "source": [
        "from skopt import dump, load\n\ndump(res, 'result.pkl')"
      ]
    },
    {
      "cell_type": "markdown",
      "metadata": {},
      "source": [
        "And load from file using :class:`skopt.load`:\n\n"
      ]
    },
    {
      "cell_type": "code",
      "execution_count": null,
      "metadata": {
        "collapsed": false
      },
      "outputs": [],
      "source": [
        "res_loaded = load('result.pkl')\n\nres_loaded.fun"
      ]
    },
    {
      "cell_type": "markdown",
      "metadata": {},
      "source": [
        "You can fine-tune the serialization and deserialization process by calling\n:class:`skopt.dump` and :class:`skopt.load` with additional keyword arguments. See the\n`joblib <https://joblib.readthedocs.io/en/latest/>`_ documentation\n:obj:`joblib.dump` and\n:obj:`joblib.load` for the additional parameters.\n\nFor instance, you can specify the compression algorithm and compression\nlevel (highest in this case):\n\n"
      ]
    },
    {
      "cell_type": "code",
      "execution_count": null,
      "metadata": {
        "collapsed": false
      },
      "outputs": [],
      "source": [
        "dump(res, 'result.gz', compress=9)\n\nfrom os.path import getsize\nprint('Without compression: {} bytes'.format(getsize('result.pkl')))\nprint('Compressed with gz:  {} bytes'.format(getsize('result.gz')))"
      ]
    },
    {
      "cell_type": "markdown",
      "metadata": {},
      "source": [
        "### Unserializable objective functions\n\nNotice that if your objective function is non-trivial (e.g. it calls MATLAB\nengine from Python), it might be not serializable and :class:`skopt.dump` will\nraise an exception when you try to store the optimization results.\nIn this case you should disable storing the objective function by calling\n:class:`skopt.dump` with the keyword argument `store_objective=False`:\n\n"
      ]
    },
    {
      "cell_type": "code",
      "execution_count": null,
      "metadata": {
        "collapsed": false
      },
      "outputs": [],
      "source": [
        "dump(res, 'result_without_objective.pkl', store_objective=False)"
      ]
    },
    {
      "cell_type": "markdown",
      "metadata": {},
      "source": [
        "Notice that the entry `'func'` is absent in the loaded object but is still\npresent in the local variable:\n\n"
      ]
    },
    {
      "cell_type": "code",
      "execution_count": null,
      "metadata": {
        "collapsed": false
      },
      "outputs": [],
      "source": [
        "res_loaded_without_objective = load('result_without_objective.pkl')\n\nprint('Loaded object: ', res_loaded_without_objective.specs['args'].keys())\nprint('Local variable:', res.specs['args'].keys())"
      ]
    },
    {
      "cell_type": "markdown",
      "metadata": {},
      "source": [
        "## Possible problems\n\n* **Python versions incompatibility:** In general, objects serialized in\n  Python 2 cannot be deserialized in Python 3 and vice versa.\n* **Security issues:** Once again, do not load any files from untrusted\n  sources.\n* **Extremely large results objects:** If your optimization results object\n\nis extremely large, calling :class:`skopt.dump` with `store_objective=False` might\ncause performance issues. This is due to creation of a deep copy without the\nobjective function. If the objective function it is not critical to you, you\ncan simply delete it before calling :class:`skopt.dump`. In this case, no deep\ncopy is created:\n\n"
      ]
    },
    {
      "cell_type": "code",
      "execution_count": null,
      "metadata": {
        "collapsed": false
      },
      "outputs": [],
      "source": [
        "del res.specs['args']['func']\n\ndump(res, 'result_without_objective_2.pkl')"
      ]
    }
  ],
  "metadata": {
    "kernelspec": {
      "display_name": "Python 3",
      "language": "python",
      "name": "python3"
    },
    "language_info": {
      "codemirror_mode": {
        "name": "ipython",
        "version": 3
      },
      "file_extension": ".py",
      "mimetype": "text/x-python",
      "name": "python",
      "nbconvert_exporter": "python",
      "pygments_lexer": "ipython3",
      "version": "3.8.5"
    }
  },
  "nbformat": 4,
  "nbformat_minor": 0
}