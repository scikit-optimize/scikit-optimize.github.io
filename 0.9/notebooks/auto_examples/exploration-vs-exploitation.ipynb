{
  "cells": [
    {
      "cell_type": "code",
      "execution_count": null,
      "metadata": {
        "collapsed": false
      },
      "outputs": [],
      "source": [
        "%matplotlib inline"
      ]
    },
    {
      "cell_type": "markdown",
      "metadata": {},
      "source": [
        "\n# Exploration vs exploitation\n\nSigurd Carlen, September 2019.\nReformatted by Holger Nahrstaedt 2020\n\n.. currentmodule:: skopt\n\n\nWe can control how much the acqusition function favors exploration and\nexploitation by tweaking the two parameters kappa and xi. Higher values\nmeans more exploration and less exploitation and vice versa with low values.\n\nkappa is only used if acq_func is set to \"LCB\". xi is used when acq_func is\n\"EI\" or \"PI\". By default the acqusition function is set to \"gp_hedge\" which\nchooses the best of these three. Therefore I recommend not using gp_hedge\nwhen tweaking exploration/exploitation, but instead choosing \"LCB\",\n\"EI\" or \"PI\".\n\nThe way to pass kappa and xi to the optimizer is to use the named argument\n\"acq_func_kwargs\". This is a dict of extra arguments for the aqcuisition\nfunction.\n\nIf you want opt.ask() to give a new acquisition value immediately after\ntweaking kappa or xi call opt.update_next(). This ensures that the next\nvalue is updated with the new acquisition parameters.\n\nThis example uses :class:`plots.plot_gaussian_process` which is available\nsince version 0.8.\n"
      ]
    },
    {
      "cell_type": "code",
      "execution_count": null,
      "metadata": {
        "collapsed": false
      },
      "outputs": [],
      "source": [
        "print(__doc__)\n\nimport numpy as np\nnp.random.seed(1234)\nimport matplotlib.pyplot as plt\nfrom skopt.learning import ExtraTreesRegressor\nfrom skopt import Optimizer\nfrom skopt.plots import plot_gaussian_process"
      ]
    },
    {
      "cell_type": "markdown",
      "metadata": {},
      "source": [
        "## Toy example\nFirst we define our objective like in the ask-and-tell example notebook and\ndefine a plotting function. We do however only use on initial random point.\nAll points after the first one is therefore chosen by the acquisition\nfunction.\n\n"
      ]
    },
    {
      "cell_type": "code",
      "execution_count": null,
      "metadata": {
        "collapsed": false
      },
      "outputs": [],
      "source": [
        "noise_level = 0.1\n\n\n# Our 1D toy problem, this is the function we are trying to\n# minimize\ndef objective(x, noise_level=noise_level):\n    return np.sin(5 * x[0]) * (1 - np.tanh(x[0] ** 2)) +\\\n           np.random.randn() * noise_level\n\n\ndef objective_wo_noise(x):\n    return objective(x, noise_level=0)"
      ]
    },
    {
      "cell_type": "code",
      "execution_count": null,
      "metadata": {
        "collapsed": false
      },
      "outputs": [],
      "source": [
        "opt = Optimizer([(-2.0, 2.0)], \"GP\", n_initial_points=3,\n                acq_optimizer=\"sampling\")"
      ]
    },
    {
      "cell_type": "markdown",
      "metadata": {},
      "source": [
        "Plotting parameters\n\n"
      ]
    },
    {
      "cell_type": "code",
      "execution_count": null,
      "metadata": {
        "collapsed": false
      },
      "outputs": [],
      "source": [
        "plot_args = {\"objective\": objective_wo_noise,\n             \"noise_level\": noise_level, \"show_legend\": True,\n             \"show_title\": True, \"show_next_point\": False,\n             \"show_acq_func\": True}"
      ]
    },
    {
      "cell_type": "markdown",
      "metadata": {},
      "source": [
        "We run a an optimization loop with standard settings\n\n"
      ]
    },
    {
      "cell_type": "code",
      "execution_count": null,
      "metadata": {
        "collapsed": false
      },
      "outputs": [],
      "source": [
        "for i in range(30):\n    next_x = opt.ask()\n    f_val = objective(next_x)\n    opt.tell(next_x, f_val)\n# The same output could be created with opt.run(objective, n_iter=30)\n_ = plot_gaussian_process(opt.get_result(), **plot_args)"
      ]
    },
    {
      "cell_type": "markdown",
      "metadata": {},
      "source": [
        "We see that some minima is found and \"exploited\"\n\nNow lets try to set kappa and xi using'to other values and\npass it to the optimizer:\n\n"
      ]
    },
    {
      "cell_type": "code",
      "execution_count": null,
      "metadata": {
        "collapsed": false
      },
      "outputs": [],
      "source": [
        "acq_func_kwargs = {\"xi\": 10000, \"kappa\": 10000}"
      ]
    },
    {
      "cell_type": "code",
      "execution_count": null,
      "metadata": {
        "collapsed": false
      },
      "outputs": [],
      "source": [
        "opt = Optimizer([(-2.0, 2.0)], \"GP\", n_initial_points=3,\n                acq_optimizer=\"sampling\",\n                acq_func_kwargs=acq_func_kwargs)"
      ]
    },
    {
      "cell_type": "code",
      "execution_count": null,
      "metadata": {
        "collapsed": false
      },
      "outputs": [],
      "source": [
        "opt.run(objective, n_iter=20)\n_ = plot_gaussian_process(opt.get_result(), **plot_args)"
      ]
    },
    {
      "cell_type": "markdown",
      "metadata": {},
      "source": [
        "We see that the points are more random now.\n\nThis works both for kappa when using acq_func=\"LCB\":\n\n"
      ]
    },
    {
      "cell_type": "code",
      "execution_count": null,
      "metadata": {
        "collapsed": false
      },
      "outputs": [],
      "source": [
        "opt = Optimizer([(-2.0, 2.0)], \"GP\", n_initial_points=3,\n                acq_func=\"LCB\", acq_optimizer=\"sampling\",\n                acq_func_kwargs=acq_func_kwargs)"
      ]
    },
    {
      "cell_type": "code",
      "execution_count": null,
      "metadata": {
        "collapsed": false
      },
      "outputs": [],
      "source": [
        "opt.run(objective, n_iter=20)\n_ = plot_gaussian_process(opt.get_result(), **plot_args)"
      ]
    },
    {
      "cell_type": "markdown",
      "metadata": {},
      "source": [
        "And for xi when using acq_func=\"EI\": or acq_func=\"PI\":\n\n"
      ]
    },
    {
      "cell_type": "code",
      "execution_count": null,
      "metadata": {
        "collapsed": false
      },
      "outputs": [],
      "source": [
        "opt = Optimizer([(-2.0, 2.0)], \"GP\", n_initial_points=3,\n                acq_func=\"PI\", acq_optimizer=\"sampling\",\n                acq_func_kwargs=acq_func_kwargs)"
      ]
    },
    {
      "cell_type": "code",
      "execution_count": null,
      "metadata": {
        "collapsed": false
      },
      "outputs": [],
      "source": [
        "opt.run(objective, n_iter=20)\n_ = plot_gaussian_process(opt.get_result(), **plot_args)"
      ]
    },
    {
      "cell_type": "markdown",
      "metadata": {},
      "source": [
        "We can also favor exploitaton:\n\n"
      ]
    },
    {
      "cell_type": "code",
      "execution_count": null,
      "metadata": {
        "collapsed": false
      },
      "outputs": [],
      "source": [
        "acq_func_kwargs = {\"xi\": 0.000001, \"kappa\": 0.001}"
      ]
    },
    {
      "cell_type": "code",
      "execution_count": null,
      "metadata": {
        "collapsed": false
      },
      "outputs": [],
      "source": [
        "opt = Optimizer([(-2.0, 2.0)], \"GP\", n_initial_points=3,\n                acq_func=\"LCB\", acq_optimizer=\"sampling\",\n                acq_func_kwargs=acq_func_kwargs)"
      ]
    },
    {
      "cell_type": "code",
      "execution_count": null,
      "metadata": {
        "collapsed": false
      },
      "outputs": [],
      "source": [
        "opt.run(objective, n_iter=20)\n_ = plot_gaussian_process(opt.get_result(), **plot_args)"
      ]
    },
    {
      "cell_type": "code",
      "execution_count": null,
      "metadata": {
        "collapsed": false
      },
      "outputs": [],
      "source": [
        "opt = Optimizer([(-2.0, 2.0)], \"GP\", n_initial_points=3,\n                acq_func=\"EI\", acq_optimizer=\"sampling\",\n                acq_func_kwargs=acq_func_kwargs)"
      ]
    },
    {
      "cell_type": "code",
      "execution_count": null,
      "metadata": {
        "collapsed": false
      },
      "outputs": [],
      "source": [
        "opt.run(objective, n_iter=20)\n_ = plot_gaussian_process(opt.get_result(), **plot_args)"
      ]
    },
    {
      "cell_type": "code",
      "execution_count": null,
      "metadata": {
        "collapsed": false
      },
      "outputs": [],
      "source": [
        "opt = Optimizer([(-2.0, 2.0)], \"GP\", n_initial_points=3,\n                acq_func=\"PI\", acq_optimizer=\"sampling\",\n                acq_func_kwargs=acq_func_kwargs)"
      ]
    },
    {
      "cell_type": "code",
      "execution_count": null,
      "metadata": {
        "collapsed": false
      },
      "outputs": [],
      "source": [
        "opt.run(objective, n_iter=20)\n_ = plot_gaussian_process(opt.get_result(), **plot_args)"
      ]
    },
    {
      "cell_type": "markdown",
      "metadata": {},
      "source": [
        "Note that negative values does not work with the \"PI\"-acquisition function\nbut works with \"EI\":\n\n"
      ]
    },
    {
      "cell_type": "code",
      "execution_count": null,
      "metadata": {
        "collapsed": false
      },
      "outputs": [],
      "source": [
        "acq_func_kwargs = {\"xi\": -1000000000000}"
      ]
    },
    {
      "cell_type": "code",
      "execution_count": null,
      "metadata": {
        "collapsed": false
      },
      "outputs": [],
      "source": [
        "opt = Optimizer([(-2.0, 2.0)], \"GP\", n_initial_points=3,\n                acq_func=\"PI\", acq_optimizer=\"sampling\",\n                acq_func_kwargs=acq_func_kwargs)"
      ]
    },
    {
      "cell_type": "code",
      "execution_count": null,
      "metadata": {
        "collapsed": false
      },
      "outputs": [],
      "source": [
        "opt.run(objective, n_iter=20)\n_ = plot_gaussian_process(opt.get_result(), **plot_args)"
      ]
    },
    {
      "cell_type": "code",
      "execution_count": null,
      "metadata": {
        "collapsed": false
      },
      "outputs": [],
      "source": [
        "opt = Optimizer([(-2.0, 2.0)], \"GP\", n_initial_points=3,\n                acq_func=\"EI\", acq_optimizer=\"sampling\",\n                acq_func_kwargs=acq_func_kwargs)"
      ]
    },
    {
      "cell_type": "code",
      "execution_count": null,
      "metadata": {
        "collapsed": false
      },
      "outputs": [],
      "source": [
        "opt.run(objective, n_iter=20)\n_ = plot_gaussian_process(opt.get_result(), **plot_args)"
      ]
    },
    {
      "cell_type": "markdown",
      "metadata": {},
      "source": [
        "## Changing kappa and xi on the go\nIf we want to change kappa or ki at any point during our optimization\nprocess we just replace opt.acq_func_kwargs. Remember to call\n`opt.update_next()` after the change, in order for next point to be\nrecalculated.\n\n"
      ]
    },
    {
      "cell_type": "code",
      "execution_count": null,
      "metadata": {
        "collapsed": false
      },
      "outputs": [],
      "source": [
        "acq_func_kwargs = {\"kappa\": 0}"
      ]
    },
    {
      "cell_type": "code",
      "execution_count": null,
      "metadata": {
        "collapsed": false
      },
      "outputs": [],
      "source": [
        "opt = Optimizer([(-2.0, 2.0)], \"GP\", n_initial_points=3,\n                acq_func=\"LCB\", acq_optimizer=\"sampling\",\n                acq_func_kwargs=acq_func_kwargs)"
      ]
    },
    {
      "cell_type": "code",
      "execution_count": null,
      "metadata": {
        "collapsed": false
      },
      "outputs": [],
      "source": [
        "opt.acq_func_kwargs"
      ]
    },
    {
      "cell_type": "code",
      "execution_count": null,
      "metadata": {
        "collapsed": false
      },
      "outputs": [],
      "source": [
        "opt.run(objective, n_iter=20)\n_ = plot_gaussian_process(opt.get_result(), **plot_args)"
      ]
    },
    {
      "cell_type": "code",
      "execution_count": null,
      "metadata": {
        "collapsed": false
      },
      "outputs": [],
      "source": [
        "acq_func_kwargs = {\"kappa\": 100000}"
      ]
    },
    {
      "cell_type": "code",
      "execution_count": null,
      "metadata": {
        "collapsed": false
      },
      "outputs": [],
      "source": [
        "opt.acq_func_kwargs = acq_func_kwargs\nopt.update_next()"
      ]
    },
    {
      "cell_type": "code",
      "execution_count": null,
      "metadata": {
        "collapsed": false
      },
      "outputs": [],
      "source": [
        "opt.run(objective, n_iter=20)\n_ = plot_gaussian_process(opt.get_result(), **plot_args)"
      ]
    }
  ],
  "metadata": {
    "kernelspec": {
      "display_name": "Python 3",
      "language": "python",
      "name": "python3"
    },
    "language_info": {
      "codemirror_mode": {
        "name": "ipython",
        "version": 3
      },
      "file_extension": ".py",
      "mimetype": "text/x-python",
      "name": "python",
      "nbconvert_exporter": "python",
      "pygments_lexer": "ipython3",
      "version": "3.9.7"
    }
  },
  "nbformat": 4,
  "nbformat_minor": 0
}